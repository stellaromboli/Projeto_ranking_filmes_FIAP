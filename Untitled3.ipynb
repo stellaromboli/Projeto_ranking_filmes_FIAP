{
  "nbformat": 4,
  "nbformat_minor": 0,
  "metadata": {
    "colab": {
      "name": "Untitled3.ipynb",
      "provenance": [],
      "collapsed_sections": [],
      "authorship_tag": "ABX9TyNijWEYz8PVqk5j1GMW2aAU",
      "include_colab_link": true
    },
    "kernelspec": {
      "name": "python3",
      "display_name": "Python 3"
    },
    "language_info": {
      "name": "python"
    }
  },
  "cells": [
    {
      "cell_type": "markdown",
      "metadata": {
        "id": "view-in-github",
        "colab_type": "text"
      },
      "source": [
        "<a href=\"https://colab.research.google.com/github/stellaromboli/Projeto_ranking_filmes_FIAP/blob/main/Untitled3.ipynb\" target=\"_parent\"><img src=\"https://colab.research.google.com/assets/colab-badge.svg\" alt=\"Open In Colab\"/></a>"
      ]
    },
    {
      "cell_type": "code",
      "execution_count": 77,
      "metadata": {
        "id": "SD4lH-zUthXP"
      },
      "outputs": [],
      "source": [
        "import pandas as pd\n",
        "import numpy as np\n",
        "import matplotlib.pyplot as plt\n",
        "import sklearn.model_selection as ms \n",
        "import sklearn.linear_model as lm"
      ]
    },
    {
      "cell_type": "code",
      "source": [
        "dataset = pd.read_excel(\"./sample_data/vendasxw.xlsx\") #identificar de onde os dados serão extraídos \n",
        "dataset = dataset.dropna()\n",
        "X = dataset.iloc[:, :-1]\n",
        "y = dataset.iloc[:, 1]"
      ],
      "metadata": {
        "id": "ZFFhdnF6wP0m"
      },
      "execution_count": 78,
      "outputs": []
    },
    {
      "cell_type": "code",
      "source": [
        "print(X_train)"
      ],
      "metadata": {
        "colab": {
          "base_uri": "https://localhost:8080/"
        },
        "id": "nweOmvIBwj6V",
        "outputId": "33ac3675-9789-4974-fe46-fd1453ce61f1"
      },
      "execution_count": 81,
      "outputs": [
        {
          "output_type": "stream",
          "name": "stdout",
          "text": [
            "    meses\n",
            "16     17\n",
            "6       7\n",
            "4       5\n",
            "2       3\n",
            "5       6\n",
            "13     14\n",
            "9      10\n",
            "7       8\n",
            "17     18\n",
            "11     12\n",
            "3       4\n",
            "0       1\n",
            "15     16\n",
            "12     13\n"
          ]
        }
      ]
    },
    {
      "cell_type": "code",
      "source": [
        "######################################\n",
        "# Separar dados em Treino e Teste\n",
        "######################################\n",
        "\n",
        "X_train, X_test, y_train, y_test = ms.train_test_split(X, y, random_state = 0)"
      ],
      "metadata": {
        "id": "YMRsu-Je1Phm"
      },
      "execution_count": 82,
      "outputs": []
    },
    {
      "cell_type": "code",
      "source": [
        "\n",
        "######################################\n",
        "# Treinando o modelo\n",
        "######################################\n",
        "\n",
        "regressor = lm.LinearRegression()\n",
        "regressor.fit(X_train, y_train)"
      ],
      "metadata": {
        "colab": {
          "base_uri": "https://localhost:8080/"
        },
        "id": "hy786mwNCqAi",
        "outputId": "ff8f854f-d912-49f6-f5bc-9c9dbef59995"
      },
      "execution_count": 83,
      "outputs": [
        {
          "output_type": "execute_result",
          "data": {
            "text/plain": [
              "LinearRegression()"
            ]
          },
          "metadata": {},
          "execution_count": 83
        }
      ]
    },
    {
      "cell_type": "code",
      "source": [
        "######################################\n",
        "# Previsao\n",
        "######################################\n",
        "\n",
        "y_pred = regressor.predict(X_test)"
      ],
      "metadata": {
        "id": "1qZVW1GwCu6E"
      },
      "execution_count": 84,
      "outputs": []
    },
    {
      "cell_type": "code",
      "source": [
        "######################################\n",
        "# Visualizando o treino\n",
        "######################################\n",
        "\n",
        "plt.scatter(X_train, y_train, color = 'red')\n",
        "plt.plot(X_train, regressor.predict(X_train), color = 'blue', scaley=False)\n",
        "plt.title('Treino')\n",
        "plt.show()\n"
      ],
      "metadata": {
        "colab": {
          "base_uri": "https://localhost:8080/",
          "height": 281
        },
        "id": "5HyrOQDDHnYE",
        "outputId": "fe63fefd-b36b-44f5-af8f-7632c029e52a"
      },
      "execution_count": 88,
      "outputs": [
        {
          "output_type": "display_data",
          "data": {
            "text/plain": [
              "<Figure size 432x288 with 1 Axes>"
            ],
            "image/png": "[encoded data removed]"
          },
          "metadata": {
            "needs_background": "light"
          }
        }
      ]
    },
    {
      "cell_type": "code",
      "source": [
        "######################################\n",
        "# Visualizando o teste\n",
        "######################################\n",
        "\n",
        "plt.scatter(X_test, y_test, color = 'red')\n",
        "plt.plot(X_train, regressor.predict(X_train), color = 'blue', scaley=False)\n",
        "plt.title('Teste')\n",
        "plt.show()"
      ],
      "metadata": {
        "colab": {
          "base_uri": "https://localhost:8080/",
          "height": 281
        },
        "id": "SFesZ5HyOiM4",
        "outputId": "7d6f8126-436b-4575-c381-cbcfc507b1b0"
      },
      "execution_count": 87,
      "outputs": [
        {
          "output_type": "display_data",
          "data": {
            "text/plain": [
              "<Figure size 432x288 with 1 Axes>"
            ],
            "image/png": "[encoded data removed]"
          },
          "metadata": {
            "needs_background": "light"
          }
        }
      ]
    },
    {
      "cell_type": "code",
      "source": [
        "######################################\n",
        "# Valor Especifico\n",
        "######################################\n",
        "\n",
        "print(regressor.predict([[25]]))"
      ],
      "metadata": {
        "colab": {
          "base_uri": "https://localhost:8080/"
        },
        "id": "UVncN4vnOwp2",
        "outputId": "050b8774-cc78-4b0e-b73e-91f813a448bd"
      },
      "execution_count": 92,
      "outputs": [
        {
          "output_type": "stream",
          "name": "stdout",
          "text": [
            "[1597.03757225]\n"
          ]
        },
        {
          "output_type": "stream",
          "name": "stderr",
          "text": [
            "/usr/local/lib/python3.7/dist-packages/sklearn/base.py:451: UserWarning: X does not have valid feature names, but LinearRegression was fitted with feature names\n",
            "  \"X does not have valid feature names, but\"\n"
          ]
        }
      ]
    }
  ]
}